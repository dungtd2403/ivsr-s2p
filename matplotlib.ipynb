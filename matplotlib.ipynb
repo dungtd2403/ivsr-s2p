{
 "cells": [
  {
   "cell_type": "code",
   "execution_count": null,
   "metadata": {},
   "outputs": [],
   "source": [
    "import matplotlib.pyplot as plt\n",
    "import matplotlib.ticker as ptick\n",
    "from matplotlib.pyplot import figure\n",
    "import numpy as np\n",
    "import pandas as pd\n",
    "import matplotlib.pyplot as pl"
   ]
  },
  {
   "cell_type": "code",
   "execution_count": 6,
   "metadata": {},
   "outputs": [],
   "source": [
    "data_blue = pd.read_csv(\"/home/analys/Downloads/train.csv\")"
   ]
  },
  {
   "cell_type": "markdown",
   "metadata": {},
   "source": []
  },
  {
   "cell_type": "code",
   "execution_count": 7,
   "metadata": {},
   "outputs": [
    {
     "name": "stdout",
     "output_type": "stream",
     "text": [
      "Index(['x', 'y', 'z'], dtype='object')\n"
     ]
    }
   ],
   "source": [
    "data_blue.head()\n",
    "print (data_blue.columns)"
   ]
  },
  {
   "cell_type": "code",
   "execution_count": 8,
   "metadata": {},
   "outputs": [
    {
     "name": "stderr",
     "output_type": "stream",
     "text": [
      "No handles with labels found to put in legend.\n"
     ]
    },
    {
     "data": {
      "text/plain": [
       "<Figure size 3200x1600 with 0 Axes>"
      ]
     },
     "metadata": {},
     "output_type": "display_data"
    },
    {
     "data": {
      "text/plain": [
       "<Figure size 10240x7680 with 0 Axes>"
      ]
     },
     "metadata": {},
     "output_type": "display_data"
    },
    {
     "data": {
      "image/png": "[encoded data removed]",
      "text/plain": [
       "<Figure size 640x480 with 1 Axes>"
      ]
     },
     "metadata": {},
     "output_type": "display_data"
    }
   ],
   "source": [
    "plt.figure(figsize=(32,16))   # Set the size of your plot. It will determine the relative size of all the labels.\n",
    "plt.figure(dpi=1600)\n",
    "fig, ax1 = plt.subplots() \n",
    "ax1.set_xlabel('z') \n",
    "# data_blue['thread1']ax1.set_ylabel('Thread1', color = 'red') \n",
    "ax1.hist(data_blue['z'],bins= 200)\n",
    "# ax1.plot(data_blue['timefromstart'],data_blue['thread1'], color = 'red') \n",
    "# ax1.tick_params(axis ='y', labelcolor = 'red') \n",
    "# ax1.set_yticks(np.arange(0,2,1))\n",
    "# ax2 = ax1.twinx()\n",
    "# ax3 = ax1.twinx()\n",
    "\n",
    "# ax3.spines['right'].set_position((\"axes\", 1.1))  \n",
    "# ax2.set_ylabel('Thread2', color = 'blue') \n",
    "# ax2.plot(data_blue['timefromstart'],data_blue['thread2'], color = 'blue') \n",
    "# ax2.tick_params(axis ='y', labelcolor = 'blue') \n",
    "# ax2.set_yticks(np.arange(0,4,2))\n",
    "# ax3.set_ylabel('Thread3', color = 'black') \n",
    "# ax3.plot(data_blue['timefromstart'],data_blue['thread3'], color = 'black') \n",
    "# ax3.tick_params(axis ='y', labelcolor = 'black') \n",
    "# ax3.set_yticks(np.arange(0,6,3))\n",
    "\n",
    "# ax3.spines['right'].set_position((\"axes\", 1.1))  \n",
    "# ax2.set_ylabel('Memmory_mb', color = 'blue') \n",
    "# ax2.plot(data_blue['timefromstart'],data_blue['memoryusage']/1000, \"ob\", color = 'blue') \n",
    "# ax2.tick_params(axis ='y', labelcolor = 'blue') \n",
    "# ax2.set_yticks(np.arange(0,70,5))\n",
    "\n",
    "# ax3.set_ylabel('Count', color = 'black') \n",
    "# ax3.plot(data_blue['timefromstart'],data_blue['count'], \"ob\", color = 'black') \n",
    "# ax3.tick_params(axis ='y', labelcolor = 'black') \n",
    "# ax3.set_yticks(np.arange(0,35,5))\n",
    "# ax3.set_yticks(np.arange(0,650,100))\n",
    "\n",
    "# plt.plot(data_blue['timefromstart'],data_blue['threadnum'],label=\"Thread_number\",linewidth =2)\n",
    "#plt.plot(data_blue['timefromstart'],data_blue['Aruy'],label=\"ArucoY\",linewidth =0.3)\n",
    "\n",
    "# plt.plot(data_blue['TimeStamp'],data_blue['Aprx'],label=\"ApritX\",linewidth =0.3)\n",
    "# plt.plot(data_blue['TimeStamp'],data_blue['Apry'],label=\"ApritY\",linewidth =0.3)\n",
    " # Plot a curve.c\n",
    "# plt.xlabel(\"Time\")\n",
    "# plt.ylabel(\"number\")\n",
    "plt.title(\"Blank\")\n",
    "plt.grid()\n",
    "plt.legend()\n",
    "plt.savefig('/home/analys/Downloads/z.png', dpi=1600)\n",
    "plt.show()"
   ]
  }
 ],
 "metadata": {
  "kernelspec": {
   "display_name": "Python 3.9.0 ('yolov7')",
   "language": "python",
   "name": "python3"
  },
  "language_info": {
   "codemirror_mode": {
    "name": "ipython",
    "version": 3
   },
   "file_extension": ".py",
   "mimetype": "text/x-python",
   "name": "python",
   "nbconvert_exporter": "python",
   "pygments_lexer": "ipython3",
   "version": "3.9.0"
  },
  "orig_nbformat": 4,
  "vscode": {
   "interpreter": {
    "hash": "ed122f29c8c7ad292a4cfc7874be2bf440b6f895a6fd6aea014029b92b5b901d"
   }
  }
 },
 "nbformat": 4,
 "nbformat_minor": 2
}
